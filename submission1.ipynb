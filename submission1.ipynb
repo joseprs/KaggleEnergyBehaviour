{
 "cells": [
  {
   "cell_type": "code",
   "execution_count": 1,
   "id": "02b21087",
   "metadata": {
    "_cell_guid": "b1076dfc-b9ad-4769-8c92-a6c4dae69d19",
    "_uuid": "8f2839f25d086af736a60e9eeb907d3b93b6e0e5",
    "execution": {
     "iopub.execute_input": "2024-02-26T10:35:55.241570Z",
     "iopub.status.busy": "2024-02-26T10:35:55.241210Z",
     "iopub.status.idle": "2024-02-26T10:36:00.956036Z",
     "shell.execute_reply": "2024-02-26T10:36:00.954724Z"
    },
    "papermill": {
     "duration": 5.723993,
     "end_time": "2024-02-26T10:36:00.958414",
     "exception": false,
     "start_time": "2024-02-26T10:35:55.234421",
     "status": "completed"
    },
    "tags": []
   },
   "outputs": [],
   "source": [
    "import os\n",
    "import gc\n",
    "import pickle\n",
    "from datetime import datetime, date, timedelta\n",
    "\n",
    "import numpy as np\n",
    "import pandas as pd\n",
    "import polars as pl\n",
    "\n",
    "import matplotlib.pyplot as plt\n",
    "import seaborn as sns\n",
    "\n",
    "from sklearn.model_selection import cross_val_score, cross_validate\n",
    "from sklearn.metrics import mean_absolute_error\n",
    "from sklearn.compose import TransformedTargetRegressor\n",
    "from sklearn.ensemble import VotingRegressor\n",
    "from xgboost import XGBRegressor\n",
    "import lightgbm as lgb\n",
    "\n",
    "import optuna"
   ]
  },
  {
   "cell_type": "code",
   "execution_count": 2,
   "id": "606c723f",
   "metadata": {
    "execution": {
     "iopub.execute_input": "2024-02-26T10:36:00.970748Z",
     "iopub.status.busy": "2024-02-26T10:36:00.970075Z",
     "iopub.status.idle": "2024-02-26T10:36:01.111871Z",
     "shell.execute_reply": "2024-02-26T10:36:01.110669Z"
    },
    "papermill": {
     "duration": 0.150935,
     "end_time": "2024-02-26T10:36:01.114607",
     "exception": false,
     "start_time": "2024-02-26T10:36:00.963672",
     "status": "completed"
    },
    "tags": []
   },
   "outputs": [],
   "source": [
    "def feature_eng(df_data, df_client, df_gas, df_electricity, df_forecast, df_historical, df_location, df_target):\n",
    "    df_data = (\n",
    "        df_data\n",
    "        .with_columns(\n",
    "            pl.col(\"datetime\").cast(pl.Date).alias(\"date\"),\n",
    "        )\n",
    "    )\n",
    "    \n",
    "    df_client = (\n",
    "        df_client\n",
    "        .with_columns(\n",
    "            (pl.col(\"date\") + pl.duration(days=2)).cast(pl.Date)\n",
    "        )\n",
    "    )\n",
    "    \n",
    "    df_gas = (\n",
    "        df_gas\n",
    "        .rename({\"forecast_date\": \"date\"})\n",
    "        .with_columns(\n",
    "            (pl.col(\"date\") + pl.duration(days=1)).cast(pl.Date)\n",
    "        )\n",
    "    )\n",
    "    \n",
    "    df_electricity = (\n",
    "        df_electricity\n",
    "        .rename({\"forecast_date\": \"datetime\"})\n",
    "        .with_columns(\n",
    "            pl.col(\"datetime\") + pl.duration(days=1)\n",
    "        )\n",
    "    )\n",
    "    \n",
    "    df_location = (\n",
    "        df_location\n",
    "        .with_columns(\n",
    "            pl.col(\"latitude\").cast(pl.datatypes.Float32),\n",
    "            pl.col(\"longitude\").cast(pl.datatypes.Float32)\n",
    "        )\n",
    "    )\n",
    "    \n",
    "    df_forecast = (\n",
    "        df_forecast\n",
    "        .rename({\"forecast_datetime\": \"datetime\"})\n",
    "        .with_columns(\n",
    "            pl.col(\"latitude\").cast(pl.datatypes.Float32),\n",
    "            pl.col(\"longitude\").cast(pl.datatypes.Float32),\n",
    "        )\n",
    "        .join(df_location, how=\"left\", on=[\"longitude\", \"latitude\"])\n",
    "        .drop(\"longitude\", \"latitude\")\n",
    "    )\n",
    "    \n",
    "    df_historical = (\n",
    "        df_historical\n",
    "        .with_columns(\n",
    "            pl.col(\"latitude\").cast(pl.datatypes.Float32),\n",
    "            pl.col(\"longitude\").cast(pl.datatypes.Float32),\n",
    "        )\n",
    "        .join(df_location, how=\"left\", on=[\"longitude\", \"latitude\"])\n",
    "        .drop(\"longitude\", \"latitude\")\n",
    "    )\n",
    "    \n",
    "    df_forecast_date = (\n",
    "        df_forecast\n",
    "        .group_by(\"datetime\").mean()\n",
    "        .drop(\"county\")\n",
    "    )\n",
    "    \n",
    "    df_forecast_local = (\n",
    "        df_forecast\n",
    "        .filter(pl.col(\"county\").is_not_null())\n",
    "        .group_by(\"county\", \"datetime\").mean()\n",
    "    )\n",
    "    \n",
    "    df_historical_date = (\n",
    "        df_historical\n",
    "        .filter(pl.col('datetime').dt.hour() <= 10).with_columns(pl.col(\"datetime\") + pl.duration(days=1))\n",
    "        .with_columns(pl.col(\"datetime\").cast(pl.Date).alias(\"date\"))\n",
    "        .group_by('date').mean() # .sort('datetime')\n",
    "        .drop(\"county\",\"datetime\")\n",
    "    )\n",
    "    \n",
    "    df_historical_local = (\n",
    "        df_historical\n",
    "        .filter(pl.col('datetime').dt.hour() <= 10).with_columns(pl.col(\"datetime\") + pl.duration(days=1))\n",
    "        .with_columns(pl.col(\"datetime\").cast(pl.Date).alias(\"date\"))\n",
    "        .group_by('date','county').mean() # .sort('date')\n",
    "        .drop(\"datetime\")\n",
    "    )\n",
    "\n",
    "    \n",
    "    df_data = (\n",
    "        df_data\n",
    "        .join(df_gas, on=\"date\", how=\"left\")\n",
    "        .join(df_client, on=[\"county\", \"is_business\", \"product_type\", \"date\"], how=\"left\")\n",
    "        .join(df_electricity, on=\"datetime\", how=\"left\")\n",
    "        \n",
    "        .join(df_forecast_date, on=\"datetime\", how=\"left\", suffix=\"_fd\")\n",
    "        .join(df_forecast_local, on=[\"county\", \"datetime\"], how=\"left\", suffix=\"_fl\")\n",
    "        # .join(df_historical_date, on=\"date\", how=\"left\", suffix=\"_hd\")\n",
    "        # .join(df_historical_local, on=[\"county\", \"date\"], how=\"left\", suffix=\"_hl\")\n",
    "        \n",
    "        # .join(df_forecast_date.with_columns(pl.col(\"datetime\") + pl.duration(days=7)), on=\"datetime\", how=\"left\", suffix=\"_fdw\")\n",
    "        # .join(df_forecast_local.with_columns(pl.col(\"datetime\") + pl.duration(days=7)), on=[\"county\", \"datetime\"], how=\"left\", suffix=\"_flw\")\n",
    "        # .join(df_historical_date.with_columns(pl.col(\"date\") + pl.duration(days=7)), on=\"date\", how=\"left\", suffix=\"_hdw\")\n",
    "        # .join(df_historical_local.with_columns(pl.col(\"date\") + pl.duration(days=7)), on=[\"county\", \"date\"], how=\"left\", suffix=\"_hlw\")\n",
    "        \n",
    "        .join(df_target.with_columns(pl.col(\"datetime\") + pl.duration(days=2)).rename({\"target\": \"target_1\"}), on=[\"county\", \"is_business\", \"product_type\", \"is_consumption\", \"datetime\"], how=\"left\")\n",
    "        .join(df_target.with_columns(pl.col(\"datetime\") + pl.duration(days=3)).rename({\"target\": \"target_2\"}), on=[\"county\", \"is_business\", \"product_type\", \"is_consumption\", \"datetime\"], how=\"left\")\n",
    "        .join(df_target.with_columns(pl.col(\"datetime\") + pl.duration(days=4)).rename({\"target\": \"target_3\"}), on=[\"county\", \"is_business\", \"product_type\", \"is_consumption\", \"datetime\"], how=\"left\")\n",
    "        .join(df_target.with_columns(pl.col(\"datetime\") + pl.duration(days=5)).rename({\"target\": \"target_4\"}), on=[\"county\", \"is_business\", \"product_type\", \"is_consumption\", \"datetime\"], how=\"left\")\n",
    "        .join(df_target.with_columns(pl.col(\"datetime\") + pl.duration(days=6)).rename({\"target\": \"target_5\"}), on=[\"county\", \"is_business\", \"product_type\", \"is_consumption\", \"datetime\"], how=\"left\")\n",
    "        .join(df_target.with_columns(pl.col(\"datetime\") + pl.duration(days=7)).rename({\"target\": \"target_6\"}), on=[\"county\", \"is_business\", \"product_type\", \"is_consumption\", \"datetime\"], how=\"left\")\n",
    "        .join(df_target.with_columns(pl.col(\"datetime\") + pl.duration(days=14)).rename({\"target\": \"target_7\"}), on=[\"county\", \"is_business\", \"product_type\", \"is_consumption\", \"datetime\"], how=\"left\")\n",
    "        \n",
    "        .with_columns(\n",
    "            pl.col(\"datetime\").dt.ordinal_day().alias(\"dayofyear\"),\n",
    "            pl.col(\"datetime\").dt.hour().alias(\"hour\"),\n",
    "            pl.col(\"datetime\").dt.day().alias(\"day\"),\n",
    "            pl.col(\"datetime\").dt.weekday().alias(\"weekday\"),\n",
    "            pl.col(\"datetime\").dt.month().alias(\"month\"),\n",
    "            pl.col(\"datetime\").dt.year().alias(\"year\"),\n",
    "        )\n",
    "        \n",
    "        # .with_columns(\n",
    "            # pl.concat_str(\"county\", \"is_business\", \"product_type\", \"is_consumption\", separator=\"_\").alias(\"category_1\"),\n",
    "        # )\n",
    "        \n",
    "        .with_columns(\n",
    "            (np.pi * pl.col(\"dayofyear\") / 183).sin().alias(\"sin(dayofyear)\"),\n",
    "            (np.pi * pl.col(\"dayofyear\") / 183).cos().alias(\"cos(dayofyear)\"),\n",
    "            (np.pi * pl.col(\"hour\") / 12).sin().alias(\"sin(hour)\"),\n",
    "            (np.pi * pl.col(\"hour\") / 12).cos().alias(\"cos(hour)\"),\n",
    "        )\n",
    "        \n",
    "        .with_columns(\n",
    "            pl.col(pl.Float64).cast(pl.Float32),\n",
    "        )\n",
    "        \n",
    "        .drop(\"hour\", \"dayofyear\", \"datetime\")\n",
    "        \n",
    "        .with_columns(\n",
    "            (pl.col(\"total_precipitation\") > 0).cast(pl.datatypes.Int8).alias(\"is_raining\"),\n",
    "            (pl.col(\"snowfall\") > 0).cast(pl.datatypes.Int8).alias(\"is_snowing\")\n",
    "        )\n",
    "    )\n",
    "    \n",
    "    return df_data"
   ]
  },
  {
   "cell_type": "code",
   "execution_count": 3,
   "id": "14fef2da",
   "metadata": {
    "execution": {
     "iopub.execute_input": "2024-02-26T10:36:01.126020Z",
     "iopub.status.busy": "2024-02-26T10:36:01.125658Z",
     "iopub.status.idle": "2024-02-26T10:36:01.132772Z",
     "shell.execute_reply": "2024-02-26T10:36:01.131410Z"
    },
    "papermill": {
     "duration": 0.014942,
     "end_time": "2024-02-26T10:36:01.134588",
     "exception": false,
     "start_time": "2024-02-26T10:36:01.119646",
     "status": "completed"
    },
    "tags": []
   },
   "outputs": [],
   "source": [
    "def to_pandas(X, y=None):\n",
    "    cat_cols = [\"county\", \"product_type\", \"is_consumption\"] # \"category_1\", \"is_business\"\n",
    "    \n",
    "    if y is not None:\n",
    "        df = pd.concat([X.to_pandas(), y.to_pandas()], axis=1)\n",
    "    else:\n",
    "        df = X.to_pandas()    \n",
    "    \n",
    "    df = df.set_index(\"row_id\")\n",
    "    df[cat_cols] = df[cat_cols].astype(\"category\")\n",
    "    \n",
    "    df[\"target_mean\"] = df[[f\"target_{i}\" for i in range(1, 7)]].mean(1)\n",
    "    df[\"target_std\"] = df[[f\"target_{i}\" for i in range(1, 7)]].std(1)\n",
    "    df[\"target_ratio\"] = df[\"target_6\"] / (df[\"target_7\"] + 1e-3)\n",
    "    \n",
    "    return df"
   ]
  },
  {
   "cell_type": "code",
   "execution_count": 4,
   "id": "b2240575",
   "metadata": {
    "execution": {
     "iopub.execute_input": "2024-02-26T10:36:01.145775Z",
     "iopub.status.busy": "2024-02-26T10:36:01.145406Z",
     "iopub.status.idle": "2024-02-26T10:36:01.153069Z",
     "shell.execute_reply": "2024-02-26T10:36:01.151828Z"
    },
    "papermill": {
     "duration": 0.015761,
     "end_time": "2024-02-26T10:36:01.155258",
     "exception": false,
     "start_time": "2024-02-26T10:36:01.139497",
     "status": "completed"
    },
    "tags": []
   },
   "outputs": [],
   "source": [
    "root = \"/kaggle/input/predict-energy-behavior-of-prosumers\"\n",
    "\n",
    "data_cols        = ['target', 'county', 'is_business', 'product_type', 'is_consumption', 'datetime', 'row_id']\n",
    "client_cols      = ['product_type', 'county', 'eic_count', 'installed_capacity', 'is_business', 'date']\n",
    "gas_cols         = ['forecast_date', 'lowest_price_per_mwh', 'highest_price_per_mwh']\n",
    "electricity_cols = ['forecast_date', 'euros_per_mwh']\n",
    "forecast_cols    = ['latitude', 'longitude', 'hours_ahead', 'temperature', 'dewpoint', 'cloudcover_high', 'cloudcover_low', 'cloudcover_mid', 'cloudcover_total', '10_metre_u_wind_component', '10_metre_v_wind_component', 'forecast_datetime', 'direct_solar_radiation', 'surface_solar_radiation_downwards', 'snowfall', 'total_precipitation']\n",
    "historical_cols  = ['datetime', 'temperature', 'dewpoint', 'rain', 'snowfall', 'surface_pressure','cloudcover_total','cloudcover_low','cloudcover_mid','cloudcover_high','windspeed_10m','winddirection_10m','shortwave_radiation','direct_solar_radiation','diffuse_radiation','latitude','longitude']\n",
    "location_cols    = ['longitude', 'latitude', 'county']\n",
    "target_cols      = ['target', 'county', 'is_business', 'product_type', 'is_consumption', 'datetime']\n",
    "\n",
    "save_path = None\n",
    "load_path = None"
   ]
  },
  {
   "cell_type": "code",
   "execution_count": 5,
   "id": "3e496724",
   "metadata": {
    "execution": {
     "iopub.execute_input": "2024-02-26T10:36:01.167039Z",
     "iopub.status.busy": "2024-02-26T10:36:01.166709Z",
     "iopub.status.idle": "2024-02-26T10:36:06.364656Z",
     "shell.execute_reply": "2024-02-26T10:36:06.363583Z"
    },
    "papermill": {
     "duration": 5.206468,
     "end_time": "2024-02-26T10:36:06.366888",
     "exception": false,
     "start_time": "2024-02-26T10:36:01.160420",
     "status": "completed"
    },
    "tags": []
   },
   "outputs": [],
   "source": [
    "df_data        = pl.read_csv(os.path.join(root, \"train.csv\"), columns=data_cols, try_parse_dates=True)\n",
    "df_client      = pl.read_csv(os.path.join(root, \"client.csv\"), columns=client_cols, try_parse_dates=True)\n",
    "df_gas         = pl.read_csv(os.path.join(root, \"gas_prices.csv\"), columns=gas_cols, try_parse_dates=True)\n",
    "df_electricity = pl.read_csv(os.path.join(root, \"electricity_prices.csv\"), columns=electricity_cols, try_parse_dates=True)\n",
    "df_forecast    = pl.read_csv(os.path.join(root, \"forecast_weather.csv\"), columns=forecast_cols, try_parse_dates=True)\n",
    "df_historical  = pl.read_csv(os.path.join(root, \"historical_weather.csv\"), columns=historical_cols, try_parse_dates=True)\n",
    "df_location    = pl.read_csv(os.path.join(root, \"weather_station_to_county_mapping.csv\"), columns=location_cols, try_parse_dates=True)\n",
    "df_target      = df_data.select(target_cols)\n",
    "\n",
    "schema_data        = df_data.schema\n",
    "schema_client      = df_client.schema\n",
    "schema_gas         = df_gas.schema\n",
    "schema_electricity = df_electricity.schema\n",
    "schema_forecast    = df_forecast.schema\n",
    "schema_historical  = df_historical.schema\n",
    "schema_target      = df_target.schema"
   ]
  },
  {
   "cell_type": "code",
   "execution_count": 6,
   "id": "c42346d2",
   "metadata": {
    "execution": {
     "iopub.execute_input": "2024-02-26T10:36:06.379345Z",
     "iopub.status.busy": "2024-02-26T10:36:06.378819Z",
     "iopub.status.idle": "2024-02-26T10:36:11.733263Z",
     "shell.execute_reply": "2024-02-26T10:36:11.732325Z"
    },
    "papermill": {
     "duration": 5.363011,
     "end_time": "2024-02-26T10:36:11.735363",
     "exception": false,
     "start_time": "2024-02-26T10:36:06.372352",
     "status": "completed"
    },
    "tags": []
   },
   "outputs": [],
   "source": [
    "pd.set_option('display.max_columns', None)\n",
    "X, y = df_data.drop(\"target\"), df_data.select(\"target\")\n",
    "X = feature_eng(X, df_client, df_gas, df_electricity, df_forecast, df_historical, df_location, df_target)"
   ]
  },
  {
   "cell_type": "code",
   "execution_count": 7,
   "id": "966ac418",
   "metadata": {
    "execution": {
     "iopub.execute_input": "2024-02-26T10:36:11.748509Z",
     "iopub.status.busy": "2024-02-26T10:36:11.747984Z",
     "iopub.status.idle": "2024-02-26T10:36:13.229434Z",
     "shell.execute_reply": "2024-02-26T10:36:13.228515Z"
    },
    "papermill": {
     "duration": 1.490608,
     "end_time": "2024-02-26T10:36:13.232039",
     "exception": false,
     "start_time": "2024-02-26T10:36:11.741431",
     "status": "completed"
    },
    "tags": []
   },
   "outputs": [],
   "source": [
    "df_train = to_pandas(X, y)\n",
    "df_train = df_train[(df_train.year>=2023) & (df_train.target.notna())].reset_index(drop=True)\n",
    "df_aux = df_train.copy()"
   ]
  },
  {
   "cell_type": "markdown",
   "id": "7b0e7e6c",
   "metadata": {
    "papermill": {
     "duration": 0.004648,
     "end_time": "2024-02-26T10:36:13.241628",
     "exception": false,
     "start_time": "2024-02-26T10:36:13.236980",
     "status": "completed"
    },
    "tags": []
   },
   "source": [
    "#### Nulls imputation"
   ]
  },
  {
   "cell_type": "code",
   "execution_count": 8,
   "id": "b4882e8b",
   "metadata": {
    "execution": {
     "iopub.execute_input": "2024-02-26T10:36:13.252881Z",
     "iopub.status.busy": "2024-02-26T10:36:13.252507Z",
     "iopub.status.idle": "2024-02-26T10:36:13.280907Z",
     "shell.execute_reply": "2024-02-26T10:36:13.279845Z"
    },
    "papermill": {
     "duration": 0.036498,
     "end_time": "2024-02-26T10:36:13.282991",
     "exception": false,
     "start_time": "2024-02-26T10:36:13.246493",
     "status": "completed"
    },
    "tags": []
   },
   "outputs": [],
   "source": [
    "# df_train[\"eic_count\"] = df_train[\"eic_count\"].fillna(df_train.groupby(\"product_type\")[\"eic_count\"].transform(\"mean\"))\n",
    "# df_train[\"installed_capacity\"] = df_train[\"installed_capacity\"].fillna(df_train.groupby(\"product_type\")[\"installed_capacity\"].transform(\"mean\"))\n",
    "\n",
    "def null_imputation(df):    \n",
    "    df[\"euros_per_mwh\"] = df[\"euros_per_mwh\"].fillna(df[\"euros_per_mwh\"].mean())\n",
    "    null_columns = [\"hours_ahead_fl\", \"temperature_fl\",\"dewpoint_fl\",\"cloudcover_high_fl\",\"cloudcover_low_fl\",\"cloudcover_mid_fl\",\"cloudcover_total_fl\",\"10_metre_u_wind_component_fl\",\"10_metre_v_wind_component_fl\",\"direct_solar_radiation_fl\",\"surface_solar_radiation_downwards_fl\",\"snowfall_fl\",\"total_precipitation_fl\"]\n",
    "    source_columns = [\"hours_ahead\", \"temperature\",\"dewpoint\",\"cloudcover_high\",\"cloudcover_low\",\"cloudcover_mid\",\"cloudcover_total\",\"10_metre_u_wind_component\",\"10_metre_v_wind_component\",\"direct_solar_radiation\",\"surface_solar_radiation_downwards\",\"snowfall\",\"total_precipitation\"]\n",
    "    for null_column, source_column in zip(null_columns, source_columns):\n",
    "        df[null_column] = df[null_column].fillna(df[source_column])\n",
    "    return df\n",
    "\n",
    "df_train = null_imputation(df_train)"
   ]
  },
  {
   "cell_type": "code",
   "execution_count": 9,
   "id": "a94c230d",
   "metadata": {
    "execution": {
     "iopub.execute_input": "2024-02-26T10:36:13.294241Z",
     "iopub.status.busy": "2024-02-26T10:36:13.293899Z",
     "iopub.status.idle": "2024-02-26T10:36:13.299734Z",
     "shell.execute_reply": "2024-02-26T10:36:13.298624Z"
    },
    "papermill": {
     "duration": 0.013663,
     "end_time": "2024-02-26T10:36:13.301630",
     "exception": false,
     "start_time": "2024-02-26T10:36:13.287967",
     "status": "completed"
    },
    "tags": []
   },
   "outputs": [],
   "source": [
    "def add_dummies(df):\n",
    "    dum_cols = [\"county\", \"product_type\"]\n",
    "    dummies = pd.get_dummies(df[dum_cols], drop_first=True)\n",
    "    df = pd.concat([df, dummies], axis=1)\n",
    "    df = df.drop(dum_cols, axis=1)\n",
    "    return df"
   ]
  },
  {
   "cell_type": "code",
   "execution_count": 10,
   "id": "0cf813ff",
   "metadata": {
    "execution": {
     "iopub.execute_input": "2024-02-26T10:36:13.312774Z",
     "iopub.status.busy": "2024-02-26T10:36:13.312444Z",
     "iopub.status.idle": "2024-02-26T10:36:13.455272Z",
     "shell.execute_reply": "2024-02-26T10:36:13.454016Z"
    },
    "papermill": {
     "duration": 0.151153,
     "end_time": "2024-02-26T10:36:13.457662",
     "exception": false,
     "start_time": "2024-02-26T10:36:13.306509",
     "status": "completed"
    },
    "tags": []
   },
   "outputs": [],
   "source": [
    "# dummies\n",
    "df_train = add_dummies(df_train)"
   ]
  },
  {
   "cell_type": "code",
   "execution_count": 11,
   "id": "dc2a09b4",
   "metadata": {
    "execution": {
     "iopub.execute_input": "2024-02-26T10:36:13.469192Z",
     "iopub.status.busy": "2024-02-26T10:36:13.468788Z",
     "iopub.status.idle": "2024-02-26T10:36:13.641073Z",
     "shell.execute_reply": "2024-02-26T10:36:13.640020Z"
    },
    "papermill": {
     "duration": 0.180359,
     "end_time": "2024-02-26T10:36:13.643038",
     "exception": false,
     "start_time": "2024-02-26T10:36:13.462679",
     "status": "completed"
    },
    "tags": []
   },
   "outputs": [],
   "source": [
    "import holidays\n",
    "est_holidays = holidays.EST()\n",
    "def add_public_holidays(date):\n",
    "    if date in est_holidays: return 1\n",
    "    else: return 0\n"
   ]
  },
  {
   "cell_type": "code",
   "execution_count": 12,
   "id": "ef5e4bad",
   "metadata": {
    "execution": {
     "iopub.execute_input": "2024-02-26T10:36:13.654953Z",
     "iopub.status.busy": "2024-02-26T10:36:13.654323Z",
     "iopub.status.idle": "2024-02-26T10:36:13.660473Z",
     "shell.execute_reply": "2024-02-26T10:36:13.659451Z"
    },
    "papermill": {
     "duration": 0.014857,
     "end_time": "2024-02-26T10:36:13.662798",
     "exception": false,
     "start_time": "2024-02-26T10:36:13.647941",
     "status": "completed"
    },
    "tags": []
   },
   "outputs": [],
   "source": [
    "def feature_eng_cons(df):\n",
    "    df['is_weekend'] = np.where(df.weekday.isin([6,7]),1,0)\n",
    "    df[\"is_public_holiday\"] = df[\"date\"].apply(add_public_holidays)\n",
    "    df = df.drop([\"10_metre_u_wind_component\", \"10_metre_v_wind_component\"], axis=1) # \"hours_ahead\", \"hours_ahead_fl\"\n",
    "    return df\n",
    "\n",
    "def feature_eng_prod(df):\n",
    "    df[\"target_1_2_ratio\"] = np.where(df['target_2'] == 0, 0, df['target_1'] / df['target_2'])\n",
    "    df[\"capacity_per_eic\"] = df[\"installed_capacity\"] / df[\"eic_count\"]\n",
    "    df = df.drop([\"highest_price_per_mwh\",\"10_metre_u_wind_component\", \"10_metre_v_wind_component\", \"hours_ahead\", \"hours_ahead_fl\"], axis=1)\n",
    "    return df # \"installed_capacity\",\"eic_count\","
   ]
  },
  {
   "cell_type": "code",
   "execution_count": 13,
   "id": "edec7b06",
   "metadata": {
    "execution": {
     "iopub.execute_input": "2024-02-26T10:36:13.674778Z",
     "iopub.status.busy": "2024-02-26T10:36:13.674217Z",
     "iopub.status.idle": "2024-02-26T10:36:14.474286Z",
     "shell.execute_reply": "2024-02-26T10:36:14.473409Z"
    },
    "papermill": {
     "duration": 0.808672,
     "end_time": "2024-02-26T10:36:14.476721",
     "exception": false,
     "start_time": "2024-02-26T10:36:13.668049",
     "status": "completed"
    },
    "tags": []
   },
   "outputs": [],
   "source": [
    "df_cons = df_train[df_train.is_consumption==1].copy()\n",
    "df_cons = feature_eng_cons(df_cons)\n",
    "df_train_cons = df_cons[(df_cons.date >= pd.to_datetime(\"2023-05-31\")- timedelta(days=50)) & (df_cons.date <= pd.to_datetime(\"2023-05-30\"))]\n",
    "df_test_cons = df_cons[df_cons.date == pd.to_datetime(\"2023-05-31\")]"
   ]
  },
  {
   "cell_type": "code",
   "execution_count": 14,
   "id": "83b7e4d7",
   "metadata": {
    "execution": {
     "iopub.execute_input": "2024-02-26T10:36:14.488592Z",
     "iopub.status.busy": "2024-02-26T10:36:14.488222Z",
     "iopub.status.idle": "2024-02-26T10:36:14.585493Z",
     "shell.execute_reply": "2024-02-26T10:36:14.584179Z"
    },
    "papermill": {
     "duration": 0.106062,
     "end_time": "2024-02-26T10:36:14.587855",
     "exception": false,
     "start_time": "2024-02-26T10:36:14.481793",
     "status": "completed"
    },
    "tags": []
   },
   "outputs": [],
   "source": [
    "df_prod = df_train[df_train.is_consumption==0].copy()\n",
    "df_prod = feature_eng_prod(df_prod)\n",
    "df_train_prod = df_prod[(df_prod.date >= pd.to_datetime(\"2023-05-31\") - timedelta(days=50)) & (df_prod.date <= pd.to_datetime(\"2023-05-30\"))]\n",
    "df_test_prod = df_prod[df_prod.date == pd.to_datetime(\"2023-05-31\")]"
   ]
  },
  {
   "cell_type": "code",
   "execution_count": 15,
   "id": "78d0a78f",
   "metadata": {
    "execution": {
     "iopub.execute_input": "2024-02-26T10:36:14.599395Z",
     "iopub.status.busy": "2024-02-26T10:36:14.599049Z",
     "iopub.status.idle": "2024-02-26T10:36:14.818486Z",
     "shell.execute_reply": "2024-02-26T10:36:14.817576Z"
    },
    "papermill": {
     "duration": 0.227729,
     "end_time": "2024-02-26T10:36:14.820701",
     "exception": false,
     "start_time": "2024-02-26T10:36:14.592972",
     "status": "completed"
    },
    "tags": []
   },
   "outputs": [],
   "source": [
    "from catboost import CatBoostRegressor\n",
    "\n",
    "class Model:\n",
    "    \n",
    "    def __init__(self):\n",
    "        self.params = {\n",
    "            \"n_estimators\": 2000,\n",
    "            \"learning_rate\": 0.06,\n",
    "            \"colsample_bytree\": 0.9,\n",
    "            \"colsample_bynode\": 0.6,\n",
    "            \"lambda_l1\": 3.5,\n",
    "            \"lambda_l2\": 1.5,\n",
    "            \"max_depth\": 16,\n",
    "            \"num_leaves\": 500,\n",
    "            \"min_data_in_leaf\": 50,\n",
    "            \"objective\": \"regression_l1\",\n",
    "            # \"device\": \"gpu\",\n",
    "        }\n",
    "        # self.model_cons = lgb.LGBMRegressor() # **self.params\n",
    "        self.model_prod = lgb.LGBMRegressor()\n",
    "        self.model_cons = CatBoostRegressor(colsample_bylevel=0.878,\n",
    "                    reg_lambda=3.438, learning_rate=0.1,\n",
    "                   max_depth=5, min_data_in_leaf=500,\n",
    "                                            verbose=False,\n",
    "                   objective='MAE', random_state=1)\n",
    "        \n",
    "    def fit_cons(self, df_cons):\n",
    "        x_train_cons = df_cons.drop([\"target\", \"date\", \"is_consumption\"], axis=1)\n",
    "        self.cons_columns = x_train_cons.columns\n",
    "        y_train_cons = df_cons[\"target\"]\n",
    "        self.model_cons.fit(x_train_cons, y_train_cons)\n",
    "        return self\n",
    "        \n",
    "    def fit_prod(self, df_prod):\n",
    "        x_train_prod = df_prod.drop([\"target\", \"date\", \"is_consumption\"], axis=1)\n",
    "        self.prod_columns = x_train_prod.columns\n",
    "        y_train_prod = df_prod[\"target\"]\n",
    "        self.model_prod.fit(x_train_prod, y_train_prod)\n",
    "        return self\n",
    "    \n",
    "    def predict_cons(self, df_test):\n",
    "        x_test = df_test.drop([\"target\", \"date\", \"is_consumption\"], axis=1)\n",
    "        y_test = df_test[\"target\"]\n",
    "        y_pred = self.model_cons.predict(x_test)\n",
    "        return mean_absolute_error(y_test, y_pred)\n",
    "    \n",
    "    def predict_prod(self, df_test):\n",
    "        x_test = df_test.drop([\"target\", \"date\", \"is_consumption\"], axis=1)\n",
    "        y_test = df_test[\"target\"]\n",
    "        y_pred = self.model_prod.predict(x_test)\n",
    "        return mean_absolute_error(y_test, y_pred)\n",
    "    \n",
    "    def predict(self, df_test):\n",
    "        predictions = np.zeros(len(df_test))\n",
    "        mask = df_test[\"is_consumption\"] == 1\n",
    "        predictions[mask.values] = np.clip(self.model_cons.predict(df_test[mask][self.cons_columns]), 0, np.Inf)\n",
    "        mask = df_test[\"is_consumption\"] == 0\n",
    "        predictions[mask.values] = np.clip(self.model_prod.predict(df_test[mask][self.prod_columns]), 0, np.Inf)\n",
    "        return predictions\n",
    "    "
   ]
  },
  {
   "cell_type": "code",
   "execution_count": 16,
   "id": "771a3714",
   "metadata": {
    "execution": {
     "iopub.execute_input": "2024-02-26T10:36:14.832137Z",
     "iopub.status.busy": "2024-02-26T10:36:14.831749Z",
     "iopub.status.idle": "2024-02-26T10:36:14.836219Z",
     "shell.execute_reply": "2024-02-26T10:36:14.835389Z"
    },
    "papermill": {
     "duration": 0.012674,
     "end_time": "2024-02-26T10:36:14.838530",
     "exception": false,
     "start_time": "2024-02-26T10:36:14.825856",
     "status": "completed"
    },
    "tags": []
   },
   "outputs": [],
   "source": [
    "# 50: 40.87, 61.47"
   ]
  },
  {
   "cell_type": "code",
   "execution_count": 17,
   "id": "0d229072",
   "metadata": {
    "execution": {
     "iopub.execute_input": "2024-02-26T10:36:14.850710Z",
     "iopub.status.busy": "2024-02-26T10:36:14.850175Z",
     "iopub.status.idle": "2024-02-26T10:36:38.173800Z",
     "shell.execute_reply": "2024-02-26T10:36:38.172975Z"
    },
    "papermill": {
     "duration": 23.331923,
     "end_time": "2024-02-26T10:36:38.175573",
     "exception": false,
     "start_time": "2024-02-26T10:36:14.843650",
     "status": "completed"
    },
    "tags": []
   },
   "outputs": [
    {
     "name": "stdout",
     "output_type": "stream",
     "text": [
      "38.918486456081965\n",
      "61.47812003812397\n"
     ]
    }
   ],
   "source": [
    "model = Model()\n",
    "\n",
    "model.fit_cons(df_train_cons)\n",
    "print(model.predict_cons(df_test_cons))\n",
    "\n",
    "model.fit_prod(df_train_prod)\n",
    "print(model.predict_prod(df_test_prod))"
   ]
  },
  {
   "cell_type": "markdown",
   "id": "871a4070",
   "metadata": {
    "papermill": {
     "duration": 0.004531,
     "end_time": "2024-02-26T10:36:38.185285",
     "exception": false,
     "start_time": "2024-02-26T10:36:38.180754",
     "status": "completed"
    },
    "tags": []
   },
   "source": [
    "## Submission"
   ]
  },
  {
   "cell_type": "code",
   "execution_count": 18,
   "id": "448075f0",
   "metadata": {
    "execution": {
     "iopub.execute_input": "2024-02-26T10:36:38.197416Z",
     "iopub.status.busy": "2024-02-26T10:36:38.195982Z",
     "iopub.status.idle": "2024-02-26T10:36:38.231018Z",
     "shell.execute_reply": "2024-02-26T10:36:38.229855Z"
    },
    "papermill": {
     "duration": 0.043194,
     "end_time": "2024-02-26T10:36:38.233237",
     "exception": false,
     "start_time": "2024-02-26T10:36:38.190043",
     "status": "completed"
    },
    "tags": []
   },
   "outputs": [],
   "source": [
    "import enefit\n",
    "env = enefit.make_env()\n",
    "iter_test = env.iter_test()"
   ]
  },
  {
   "cell_type": "code",
   "execution_count": 19,
   "id": "940b4f33",
   "metadata": {
    "execution": {
     "iopub.execute_input": "2024-02-26T10:36:38.244792Z",
     "iopub.status.busy": "2024-02-26T10:36:38.244467Z",
     "iopub.status.idle": "2024-02-26T10:36:53.217441Z",
     "shell.execute_reply": "2024-02-26T10:36:53.216251Z"
    },
    "papermill": {
     "duration": 14.981595,
     "end_time": "2024-02-26T10:36:53.220065",
     "exception": false,
     "start_time": "2024-02-26T10:36:38.238470",
     "status": "completed"
    },
    "tags": []
   },
   "outputs": [
    {
     "name": "stdout",
     "output_type": "stream",
     "text": [
      "This version of the API is not optimized and should not be used to estimate the runtime of your code on the hidden test set.\n"
     ]
    },
    {
     "name": "stderr",
     "output_type": "stream",
     "text": [
      "/tmp/ipykernel_20/517714714.py:2: SettingWithCopyWarning: \n",
      "A value is trying to be set on a copy of a slice from a DataFrame.\n",
      "Try using .loc[row_indexer,col_indexer] = value instead\n",
      "\n",
      "See the caveats in the documentation: https://pandas.pydata.org/pandas-docs/stable/user_guide/indexing.html#returning-a-view-versus-a-copy\n",
      "  df['is_weekend'] = np.where(df.weekday.isin([6,7]),1,0)\n",
      "/tmp/ipykernel_20/517714714.py:3: SettingWithCopyWarning: \n",
      "A value is trying to be set on a copy of a slice from a DataFrame.\n",
      "Try using .loc[row_indexer,col_indexer] = value instead\n",
      "\n",
      "See the caveats in the documentation: https://pandas.pydata.org/pandas-docs/stable/user_guide/indexing.html#returning-a-view-versus-a-copy\n",
      "  df[\"is_public_holiday\"] = df[\"date\"].apply(add_public_holidays)\n",
      "/tmp/ipykernel_20/517714714.py:8: SettingWithCopyWarning: \n",
      "A value is trying to be set on a copy of a slice from a DataFrame.\n",
      "Try using .loc[row_indexer,col_indexer] = value instead\n",
      "\n",
      "See the caveats in the documentation: https://pandas.pydata.org/pandas-docs/stable/user_guide/indexing.html#returning-a-view-versus-a-copy\n",
      "  df[\"target_1_2_ratio\"] = np.where(df['target_2'] == 0, 0, df['target_1'] / df['target_2'])\n",
      "/tmp/ipykernel_20/517714714.py:9: SettingWithCopyWarning: \n",
      "A value is trying to be set on a copy of a slice from a DataFrame.\n",
      "Try using .loc[row_indexer,col_indexer] = value instead\n",
      "\n",
      "See the caveats in the documentation: https://pandas.pydata.org/pandas-docs/stable/user_guide/indexing.html#returning-a-view-versus-a-copy\n",
      "  df[\"capacity_per_eic\"] = df[\"installed_capacity\"] / df[\"eic_count\"]\n",
      "/tmp/ipykernel_20/517714714.py:2: SettingWithCopyWarning: \n",
      "A value is trying to be set on a copy of a slice from a DataFrame.\n",
      "Try using .loc[row_indexer,col_indexer] = value instead\n",
      "\n",
      "See the caveats in the documentation: https://pandas.pydata.org/pandas-docs/stable/user_guide/indexing.html#returning-a-view-versus-a-copy\n",
      "  df['is_weekend'] = np.where(df.weekday.isin([6,7]),1,0)\n",
      "/tmp/ipykernel_20/517714714.py:3: SettingWithCopyWarning: \n",
      "A value is trying to be set on a copy of a slice from a DataFrame.\n",
      "Try using .loc[row_indexer,col_indexer] = value instead\n",
      "\n",
      "See the caveats in the documentation: https://pandas.pydata.org/pandas-docs/stable/user_guide/indexing.html#returning-a-view-versus-a-copy\n",
      "  df[\"is_public_holiday\"] = df[\"date\"].apply(add_public_holidays)\n",
      "/tmp/ipykernel_20/517714714.py:8: SettingWithCopyWarning: \n",
      "A value is trying to be set on a copy of a slice from a DataFrame.\n",
      "Try using .loc[row_indexer,col_indexer] = value instead\n",
      "\n",
      "See the caveats in the documentation: https://pandas.pydata.org/pandas-docs/stable/user_guide/indexing.html#returning-a-view-versus-a-copy\n",
      "  df[\"target_1_2_ratio\"] = np.where(df['target_2'] == 0, 0, df['target_1'] / df['target_2'])\n",
      "/tmp/ipykernel_20/517714714.py:9: SettingWithCopyWarning: \n",
      "A value is trying to be set on a copy of a slice from a DataFrame.\n",
      "Try using .loc[row_indexer,col_indexer] = value instead\n",
      "\n",
      "See the caveats in the documentation: https://pandas.pydata.org/pandas-docs/stable/user_guide/indexing.html#returning-a-view-versus-a-copy\n",
      "  df[\"capacity_per_eic\"] = df[\"installed_capacity\"] / df[\"eic_count\"]\n",
      "/tmp/ipykernel_20/517714714.py:2: SettingWithCopyWarning: \n",
      "A value is trying to be set on a copy of a slice from a DataFrame.\n",
      "Try using .loc[row_indexer,col_indexer] = value instead\n",
      "\n",
      "See the caveats in the documentation: https://pandas.pydata.org/pandas-docs/stable/user_guide/indexing.html#returning-a-view-versus-a-copy\n",
      "  df['is_weekend'] = np.where(df.weekday.isin([6,7]),1,0)\n",
      "/tmp/ipykernel_20/517714714.py:3: SettingWithCopyWarning: \n",
      "A value is trying to be set on a copy of a slice from a DataFrame.\n",
      "Try using .loc[row_indexer,col_indexer] = value instead\n",
      "\n",
      "See the caveats in the documentation: https://pandas.pydata.org/pandas-docs/stable/user_guide/indexing.html#returning-a-view-versus-a-copy\n",
      "  df[\"is_public_holiday\"] = df[\"date\"].apply(add_public_holidays)\n",
      "/tmp/ipykernel_20/517714714.py:8: SettingWithCopyWarning: \n",
      "A value is trying to be set on a copy of a slice from a DataFrame.\n",
      "Try using .loc[row_indexer,col_indexer] = value instead\n",
      "\n",
      "See the caveats in the documentation: https://pandas.pydata.org/pandas-docs/stable/user_guide/indexing.html#returning-a-view-versus-a-copy\n",
      "  df[\"target_1_2_ratio\"] = np.where(df['target_2'] == 0, 0, df['target_1'] / df['target_2'])\n",
      "/tmp/ipykernel_20/517714714.py:9: SettingWithCopyWarning: \n",
      "A value is trying to be set on a copy of a slice from a DataFrame.\n",
      "Try using .loc[row_indexer,col_indexer] = value instead\n",
      "\n",
      "See the caveats in the documentation: https://pandas.pydata.org/pandas-docs/stable/user_guide/indexing.html#returning-a-view-versus-a-copy\n",
      "  df[\"capacity_per_eic\"] = df[\"installed_capacity\"] / df[\"eic_count\"]\n",
      "/tmp/ipykernel_20/517714714.py:2: SettingWithCopyWarning: \n",
      "A value is trying to be set on a copy of a slice from a DataFrame.\n",
      "Try using .loc[row_indexer,col_indexer] = value instead\n",
      "\n",
      "See the caveats in the documentation: https://pandas.pydata.org/pandas-docs/stable/user_guide/indexing.html#returning-a-view-versus-a-copy\n",
      "  df['is_weekend'] = np.where(df.weekday.isin([6,7]),1,0)\n",
      "/tmp/ipykernel_20/517714714.py:3: SettingWithCopyWarning: \n",
      "A value is trying to be set on a copy of a slice from a DataFrame.\n",
      "Try using .loc[row_indexer,col_indexer] = value instead\n",
      "\n",
      "See the caveats in the documentation: https://pandas.pydata.org/pandas-docs/stable/user_guide/indexing.html#returning-a-view-versus-a-copy\n",
      "  df[\"is_public_holiday\"] = df[\"date\"].apply(add_public_holidays)\n",
      "/tmp/ipykernel_20/517714714.py:8: SettingWithCopyWarning: \n",
      "A value is trying to be set on a copy of a slice from a DataFrame.\n",
      "Try using .loc[row_indexer,col_indexer] = value instead\n",
      "\n",
      "See the caveats in the documentation: https://pandas.pydata.org/pandas-docs/stable/user_guide/indexing.html#returning-a-view-versus-a-copy\n",
      "  df[\"target_1_2_ratio\"] = np.where(df['target_2'] == 0, 0, df['target_1'] / df['target_2'])\n",
      "/tmp/ipykernel_20/517714714.py:9: SettingWithCopyWarning: \n",
      "A value is trying to be set on a copy of a slice from a DataFrame.\n",
      "Try using .loc[row_indexer,col_indexer] = value instead\n",
      "\n",
      "See the caveats in the documentation: https://pandas.pydata.org/pandas-docs/stable/user_guide/indexing.html#returning-a-view-versus-a-copy\n",
      "  df[\"capacity_per_eic\"] = df[\"installed_capacity\"] / df[\"eic_count\"]\n"
     ]
    }
   ],
   "source": [
    "def is_prediciton_needed(test):\n",
    "    return not all(test['currently_scored'] == False)\n",
    "\n",
    "for (test, revealed_targets, client, historical_weather,\n",
    "        forecast_weather, electricity_prices, gas_prices, sample_prediction) in iter_test:\n",
    "   \n",
    "    test = test.rename(columns={\"prediction_datetime\": \"datetime\"})\n",
    "    \n",
    "    df_test           = pl.from_pandas(test[data_cols[1:]], schema_overrides=schema_data)\n",
    "    df_client         = pl.from_pandas(client[client_cols], schema_overrides=schema_client)\n",
    "    df_gas            = pl.from_pandas(gas_prices[gas_cols], schema_overrides=schema_gas)\n",
    "    df_electricity    = pl.from_pandas(electricity_prices[electricity_cols], schema_overrides=schema_electricity)\n",
    "    df_new_forecast   = pl.from_pandas(forecast_weather[forecast_cols], schema_overrides=schema_forecast)\n",
    "    df_new_historical = pl.from_pandas(historical_weather[historical_cols], schema_overrides=schema_historical)\n",
    "    df_new_target     = pl.from_pandas(revealed_targets[target_cols], schema_overrides=schema_target)\n",
    "    \n",
    "    df_forecast       = pl.concat([df_forecast, df_new_forecast]).unique()\n",
    "    df_historical     = pl.concat([df_historical, df_new_historical]).unique()\n",
    "    df_target         = pl.concat([df_target, df_new_target]).unique()\n",
    "    \n",
    "    X_test = feature_eng(df_test, df_client, df_gas, df_electricity, df_forecast, df_historical, df_location, df_target)\n",
    "    X_test = to_pandas(X_test)\n",
    "    \n",
    "    X_test = null_imputation(X_test)\n",
    "    X_test = add_dummies(X_test)\n",
    "    \n",
    "    X_test_cons = X_test[X_test[\"is_consumption\"]==1]\n",
    "    X_test_prod = X_test[X_test[\"is_consumption\"]==0]\n",
    "    \n",
    "    X_test_cons = feature_eng_cons(X_test_cons)\n",
    "    X_test_prod = feature_eng_prod(X_test_prod)\n",
    "    \n",
    "    X_test_all = pd.concat([X_test_cons.drop(\"date\", axis=1), X_test_prod.drop(\"date\", axis=1)]).sort_index()\n",
    "        \n",
    "    if not is_prediciton_needed(test):\n",
    "        sample_prediction['target'] = 0\n",
    "        env.predict(sample_prediction)\n",
    "        continue\n",
    "    \n",
    "    sample_prediction[\"target\"] = model.predict(X_test_all)\n",
    "    env.predict(sample_prediction)"
   ]
  }
 ],
 "metadata": {
  "kaggle": {
   "accelerator": "none",
   "dataSources": [
    {
     "databundleVersionId": 7292407,
     "sourceId": 57236,
     "sourceType": "competition"
    }
   ],
   "dockerImageVersionId": 30626,
   "isGpuEnabled": false,
   "isInternetEnabled": false,
   "language": "python",
   "sourceType": "notebook"
  },
  "kernelspec": {
   "display_name": "Python 3",
   "language": "python",
   "name": "python3"
  },
  "language_info": {
   "codemirror_mode": {
    "name": "ipython",
    "version": 3
   },
   "file_extension": ".py",
   "mimetype": "text/x-python",
   "name": "python",
   "nbconvert_exporter": "python",
   "pygments_lexer": "ipython3",
   "version": "3.10.12"
  },
  "papermill": {
   "default_parameters": {},
   "duration": 62.541702,
   "end_time": "2024-02-26T10:36:54.247331",
   "environment_variables": {},
   "exception": null,
   "input_path": "__notebook__.ipynb",
   "output_path": "__notebook__.ipynb",
   "parameters": {},
   "start_time": "2024-02-26T10:35:51.705629",
   "version": "2.4.0"
  }
 },
 "nbformat": 4,
 "nbformat_minor": 5
}
